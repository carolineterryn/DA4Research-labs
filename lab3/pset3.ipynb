{
 "cells": [
  {
   "cell_type": "markdown",
   "id": "4a589f78",
   "metadata": {},
   "source": [
    "# Problem Set 3\n"
   ]
  },
  {
   "cell_type": "code",
   "execution_count": 44,
   "id": "4614862b",
   "metadata": {},
   "outputs": [],
   "source": [
    "import pandas as pd\n",
    "import math\n",
    "import scipy.stats as stats\n",
    "import matplotlib.pyplot as plt\n",
    "import numpy as np"
   ]
  },
  {
   "cell_type": "code",
   "execution_count": 45,
   "id": "c59304b1",
   "metadata": {},
   "outputs": [],
   "source": [
    "# Read the data\n",
    "data_a = pd.read_csv('ProblemSet3a_data.csv')\n",
    "data_b = pd.read_csv('ProblemSet3b_data.csv')"
   ]
  },
  {
   "cell_type": "markdown",
   "id": "4f02bdc7",
   "metadata": {},
   "source": [
    "## ANOVAs\n",
    "Using ProblemSet3a_data.csv"
   ]
  },
  {
   "cell_type": "code",
   "execution_count": 46,
   "id": "7de75905",
   "metadata": {},
   "outputs": [
    {
     "name": "stdout",
     "output_type": "stream",
     "text": [
      "       Group A     Group B     Group C     Group D\n",
      "0   122.552551   72.364842  136.354276  119.633435\n",
      "1   148.075240   88.577861  142.910567  133.959354\n",
      "2    90.149986   74.017390  106.512670  129.215789\n",
      "3   111.925104   62.002630  111.894359  158.297035\n",
      "4    88.364313   92.694909  144.232303  147.246309\n",
      "5   129.537623   81.349072  127.901716  166.187242\n",
      "6   131.148673   76.257589  139.955618  129.037491\n",
      "7    85.061855   85.834549  112.708393  133.034664\n",
      "8   139.155267   99.753894  100.591557  152.967673\n",
      "9    93.729523   87.858691  143.701605  170.047659\n",
      "10  113.402285   83.891027  151.479529   79.432761\n",
      "11  126.483938   85.595699  159.377030  149.815045\n",
      "12  112.207831   81.024406  102.420587  111.014864\n",
      "13  144.434987   64.510675  105.936657  154.897993\n",
      "14  151.288368   95.735634  103.470763  124.719864\n",
      "15  112.074766  108.178139  129.250065  151.490415\n",
      "16   81.394007   69.318028  118.920868  103.296541\n",
      "17  104.525105  118.555169  153.654787  162.786125\n",
      "18   97.278350   76.475049  103.808802   94.480897\n",
      "19   98.528700   75.124993   98.637714  152.722798\n",
      "20   93.084578   62.047987  133.695484  132.340702\n",
      "21  111.172833   64.153263  151.472747  122.032458\n",
      "22  141.599445   60.940506  115.549184  132.254030\n",
      "23   99.262289   87.078109  107.218544  171.945078\n",
      "24  105.792265  111.940527  127.312036  125.787623\n",
      "25  127.497125   90.549405  100.543960  133.827501\n",
      "26  128.192321   97.084046  130.312198  127.906322\n",
      "27  117.283115  106.836930  144.910971  134.497983\n",
      "28  125.390247   30.009331  133.919290  102.588743\n",
      "29  123.060890   76.648814   95.633592  137.304698\n"
     ]
    }
   ],
   "source": [
    "num_groups = 4\n",
    "print(data_a)"
   ]
  },
  {
   "cell_type": "code",
   "execution_count": 47,
   "id": "22a1ef07",
   "metadata": {},
   "outputs": [
    {
     "name": "stdout",
     "output_type": "stream",
     "text": [
      "Group A :\n",
      "Statistic:  0.970338830068973\n",
      "P value:  0.5484878857819732\n",
      "Group B :\n",
      "Statistic:  0.9703091138582917\n",
      "P value:  0.5476678760039844\n",
      "Group C :\n",
      "Statistic:  0.9298593897760128\n",
      "P value:  0.04868262630306069\n",
      "Group D :\n",
      "Statistic:  0.9674489996247579\n",
      "P value:  0.47194080671745514\n"
     ]
    }
   ],
   "source": [
    "# Apply the Shapiro-Wilk test to each group. What can you conclude from looking at the p-values?\n",
    "\n",
    "for i in range(num_groups):\n",
    "    group_name = data_a.columns[i]\n",
    "    stat, pval = stats.shapiro(data_a[group_name])\n",
    "    print(group_name, ':')\n",
    "    print('Statistic: ', stat)\n",
    "    print('P value: ', pval)"
   ]
  },
  {
   "cell_type": "markdown",
   "id": "d9f1636b",
   "metadata": {},
   "source": [
    "The Shapiro-Wilk test determines whether a given dataset is sampled from a normal distribution. All of the\n",
    "groups appear to be sampled from a normal distribution except for group C, which has a p-value of less than\n",
    "0.05 (if we assume alpha = 0.05). However, all of the groups do have a W value close to 1 (or appears to be \n",
    "'close' to normal)."
   ]
  },
  {
   "cell_type": "code",
   "execution_count": 48,
   "id": "4b733fbe",
   "metadata": {},
   "outputs": [
    {
     "name": "stdout",
     "output_type": "stream",
     "text": [
      "ANOVA Results - F Score:  40.50424013773736 P Value:  3.691306779549173e-13\n"
     ]
    }
   ],
   "source": [
    "# Ignoring group C, perform an ANOVA test on the remaining groups, and output the F-score and the p-value\n",
    "\n",
    "alpha = 0.05\n",
    "num_readings = data_a.shape[0]\n",
    "data_a_new = data_a\n",
    "\n",
    "# Pretend we don't know which group passes the SW test.\n",
    "for i in range(num_groups):\n",
    "    group_name = data_a.columns[i]\n",
    "    _, pval = stats.shapiro(data_a[group_name])\n",
    "    if pval < alpha:\n",
    "        data_a_new = data_a_new.drop(columns=group_name)\n",
    "\n",
    "# Now, we run the ANOVA (stats.f_oneway)\n",
    "dlist = []\n",
    "for i in range(data_a_new.shape[1]):\n",
    "    group_name = data_a.columns[i]\n",
    "    dlist.append(data_a[group_name])\n",
    "\n",
    "# We now have a list of the groups in the data frame we want to analyze\n",
    "# So we need to expand the list into separate positional arguments using *\n",
    "stat, pval = stats.f_oneway(*dlist)\n",
    "print('ANOVA Results - F Score: ', stat, 'P Value: ', pval)\n"
   ]
  }
 ],
 "metadata": {
  "kernelspec": {
   "display_name": "Python 3",
   "language": "python",
   "name": "python3"
  },
  "language_info": {
   "codemirror_mode": {
    "name": "ipython",
    "version": 3
   },
   "file_extension": ".py",
   "mimetype": "text/x-python",
   "name": "python",
   "nbconvert_exporter": "python",
   "pygments_lexer": "ipython3",
   "version": "3.13.2"
  }
 },
 "nbformat": 4,
 "nbformat_minor": 5
}
