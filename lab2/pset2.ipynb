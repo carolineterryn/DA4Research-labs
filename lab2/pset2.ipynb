{
 "cells": [
  {
   "cell_type": "markdown",
   "id": "f5aec3cc",
   "metadata": {},
   "source": [
    "# Problem Set 2\n",
    "\n",
    "The entries show the blod pressures of 4 groups of adults. Groups A and B are done on the same individuals before and after treatments, groups C and D are done in two other distinct groups of adults.\n"
   ]
  },
  {
   "cell_type": "code",
   "execution_count": 34,
   "id": "c943a29b",
   "metadata": {},
   "outputs": [],
   "source": [
    "# import libraries\n",
    "\n",
    "import pandas as pd\n",
    "import matplotlib.pyplot as plt\n",
    "import math\n",
    "import scipy.stats as stats"
   ]
  },
  {
   "cell_type": "code",
   "execution_count": 21,
   "id": "7dffb9f9",
   "metadata": {},
   "outputs": [
    {
     "data": {
      "text/plain": [
       "Index(['Group A', 'Group B', 'Group C', 'Group D'], dtype='object')"
      ]
     },
     "execution_count": 21,
     "metadata": {},
     "output_type": "execute_result"
    }
   ],
   "source": [
    "# import csv data\n",
    "data = pd.read_csv('ProblemSet2_data.csv')\n",
    "data.columns\n"
   ]
  },
  {
   "cell_type": "code",
   "execution_count": 25,
   "id": "940a5a7d",
   "metadata": {},
   "outputs": [
    {
     "data": {
      "image/png": "[encoded data removed]",
      "text/plain": [
       "<Figure size 640x480 with 4 Axes>"
      ]
     },
     "metadata": {},
     "output_type": "display_data"
    }
   ],
   "source": [
    "# Plot the histograms for all datasets 1 to 4, present the histograms in the form of a 2 by 2\n",
    "# array using the subplot function in Matplotlib\n",
    "\n",
    "num_groups = 4\n",
    "bins = int(1 + math.log2(data.shape[0]))\n",
    "for i in range(num_groups):\n",
    "    data_name = data.columns[i]\n",
    "    plt.subplot(2, 2, i + 1, xlabel=data_name)\n",
    "    plt.hist(data[data_name], bins)\n",
    "\n",
    "plt.tight_layout()\n",
    "\n"
   ]
  },
  {
   "cell_type": "code",
   "execution_count": 33,
   "id": "c4e7a9ee",
   "metadata": {},
   "outputs": [
    {
     "name": "stdout",
     "output_type": "stream",
     "text": [
      "Medians: \n",
      "Group A    129.879672\n",
      "Group B    121.999935\n",
      "Group C    119.756813\n",
      "Group D    122.696732\n",
      "dtype: float64 \n",
      "\n",
      "Standard Deviations: \n",
      "Group A    17.589352\n",
      "Group B    15.854468\n",
      "Group C    22.389837\n",
      "Group D    25.892003\n",
      "dtype: float64 \n",
      "\n",
      "Standard Errors: \n",
      "Group A    2.487510\n",
      "Group B    2.242160\n",
      "Group C    3.166401\n",
      "Group D    3.661682\n",
      "dtype: float64 \n",
      "\n"
     ]
    }
   ],
   "source": [
    "# Find the medians, standard deviations, and standard errors for each group\n",
    "\n",
    "print(\"Medians: \")\n",
    "print(data.median(), '\\n')\n",
    "\n",
    "print(\"Standard Deviations: \")\n",
    "print(data.std(), '\\n')\n",
    "\n",
    "print(\"Standard Errors: \")\n",
    "print(data.std()/math.sqrt(data.shape[0]), '\\n')\n"
   ]
  },
  {
   "cell_type": "code",
   "execution_count": null,
   "id": "2574d060",
   "metadata": {},
   "outputs": [
    {
     "name": "stdout",
     "output_type": "stream",
     "text": [
      "Group A :  (W) =  0.9713521775079711 ; pvalue =  0.26247751034621963\n",
      "Group B :  (W) =  0.9826851716984499 ; pvalue =  0.6693372914848483\n",
      "Group C :  (W) =  0.9624165335366559 ; pvalue =  0.11223889545607468\n",
      "Group D :  (W) =  0.9402162574354295 ; pvalue =  0.013740752662524952\n"
     ]
    }
   ],
   "source": [
    "# Apply the Shapiro-Wilk test to each dataset. What can you conclude by looking at the p-values?\n",
    "\n",
    "for i in range(num_groups):\n",
    "    data_name = data.columns[i]\n",
    "    statistic, pvalue = stats.shapiro(x=data[data_name])\n",
    "    print(data_name, ':  (W) = ', statistic, '; pvalue = ', pvalue)"
   ]
  },
  {
   "cell_type": "markdown",
   "id": "b9a95ede",
   "metadata": {},
   "source": [
    "The only group that had a p vaue indicating that the test group likely did not match a normal distribution was Group D. Notably, group D also had the smallest W value, indicating it was further than normality than the other three groups."
   ]
  },
  {
   "cell_type": "code",
   "execution_count": null,
   "id": "ccdeea82",
   "metadata": {},
   "outputs": [],
   "source": []
  }
 ],
 "metadata": {
  "kernelspec": {
   "display_name": "Python 3",
   "language": "python",
   "name": "python3"
  },
  "language_info": {
   "codemirror_mode": {
    "name": "ipython",
    "version": 3
   },
   "file_extension": ".py",
   "mimetype": "text/x-python",
   "name": "python",
   "nbconvert_exporter": "python",
   "pygments_lexer": "ipython3",
   "version": "3.13.2"
  }
 },
 "nbformat": 4,
 "nbformat_minor": 5
}
